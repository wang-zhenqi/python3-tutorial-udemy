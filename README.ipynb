{
 "cells": [
  {
   "cell_type": "markdown",
   "id": "05647b41",
   "metadata": {},
   "source": [
    "This repo contains the practicing source code when I learning Python on a Udemy lecture provided by Xiao Peng.\n",
    "\n",
    "Here is the learning note that I think is worth keeping. It might not be systematic, but contains some key points that are easily forgotten.\n",
    "\n",
    "\n",
    "\n",
    "# Chapter 1 - Get to Know Python\n",
    "\n",
    "## Website\n",
    "\n",
    "The official python website: [python.org](python.org).\n",
    "\n",
    "## Version\n",
    "\n",
    "Python 2 is so much different from python 3, so before writing the program, choose a proper version.\n",
    "\n",
    "For practice, we can choose the **second latest version**, because it is stable and contains enough new features.\n",
    "\n",
    "We can install plenty of versions of python on the same machine. It is common that we use a different version for a different program. That's why we need a run-time version manager. Usually, `pipenv` is a good choice, it provides a virtual run-time environment for a specific program so that the program can be isolated from others.\n",
    "\n",
    "But now, I'm used to using another tool called [`asdf`](http://asdf-vm.com/), it's more convenient to operate. Also, it gives users a unified way of setting the run-time environment for many languages.\n",
    "\n",
    "\n",
    "\n",
    "# Chapter 2 - Basic Types\n",
    "\n",
    "## Indentation\n",
    "\n",
    "Either `space` or `tab` as long as use the same rule of indentation. **4-spaces** is recommended.\n",
    "\n",
    "\n",
    "\n",
    "## Data type\n",
    "\n",
    "Python doesn't define a data type strictly, you can easily change the value of a variable from one type to another:"
   ]
  },
  {
   "cell_type": "markdown",
   "id": "7afb2108fcd604f",
   "metadata": {},
   "source": [
    "a = 1\n",
    "a = 3.14\n",
    "a = True\n",
    "a = [1, 2, 3]"
   ]
  },
  {
   "cell_type": "markdown",
   "id": "486bcb5f",
   "metadata": {},
   "source": [
    "### Basic types\n",
    "\n",
    "|  Type   | Sub-type | Example                                                  | Operation                                                    | Comment   |\n",
    "| :-----: | :------: | -------------------------------------------------------- | ------------------------------------------------------------ | --------- |\n",
    "| Numbers | Integer  | 123, -23, 0, 0b101, 0x3AD, 0o37, 0b1111_1111 (4095), ... | `+`, `-`, `*`, `/`, `//` (inter division), `**` (exponent), `%` |           |\n",
    "|         |  Float   | 43.5, -65.222, 1.0, 1.2E3, ...                           | `+`, `-`, `*`, `/`, `//` (inter division), `**` (exponent), `%` |           |\n",
    "|         | Complex  | 1+2J, 3+5j, ...                                          |                                                              |           |\n",
    "| Boolean |          | True, False                                              | `and`, `or`, `not`                                           |           |\n",
    "|  None   |          | None                                                     |                                                              |           |\n",
    "| String  |          | \"abc\", 'hello world', '', \"Tom's hat\"                    | `+`, `*`, `in`                                               | Immutable |\n",
    "\n",
    "\n",
    "\n",
    "## Strings\n",
    "\n",
    "### Functions\n",
    "\n",
    "See [this site](https://www.w3schools.com/python/python_ref_string.asp) for reference.\n",
    "\n",
    "\n",
    "\n",
    "### Indexing"
   ]
  },
  {
   "cell_type": "markdown",
   "id": "5873829fd3276b55",
   "metadata": {},
   "source": [
    "a = \"python\"\n",
    "print(a[0])     # 'p'\n",
    "print(a[-2])    # 'o'"
   ]
  },
  {
   "cell_type": "markdown",
   "id": "7628b457",
   "metadata": {},
   "source": [
    "### Slicing"
   ]
  },
  {
   "cell_type": "markdown",
   "id": "c583155c388ac6e9",
   "metadata": {},
   "source": [
    "a = \"python\"\n",
    "print(a[2:4])   # \"th\"\n",
    "print(a[-6:-4]) # \"py\"\n",
    "print(a[0:-3])  # \"pyt\"\n",
    "print(a[:-2])   # \"pyth\"\n",
    "print(a[1:])    # \"ython\""
   ]
  },
  {
   "cell_type": "markdown",
   "id": "9e8886c5",
   "metadata": {},
   "source": [
    "### Concatenating and Multiplying"
   ]
  },
  {
   "cell_type": "markdown",
   "id": "6f4014ac1e32f660",
   "metadata": {},
   "source": [
    "```python\n",
    "a = \"py\" + \"thon\"    # \"python\"\n",
    "b = (a + ' ') * 3    # \"python python python \"\n",
    "```"
   ]
  },
  {
   "cell_type": "markdown",
   "id": "768cb245",
   "metadata": {},
   "source": [
    "### Formatting"
   ]
  },
  {
   "cell_type": "code",
   "execution_count": null,
   "id": "719dde04",
   "metadata": {},
   "outputs": [],
   "source": [
    "# \"I'm python, and 27 years old.\"\n",
    "\n",
    "name = 'python'\n",
    "age = 27\n",
    "s1 = \"I'm \" + name + \", \" + \"and \" + str(age) + \" years old.\"\n",
    "print(s1)\n",
    "\n",
    "s2 = \"I'm %s, and %d years old.\" % (name, age)\n",
    "print(s2)\n",
    "\n",
    "s3 = \"I'm {N}, and {A} years old.\".format(\n",
    "        N=name,\n",
    "        A=age\n",
    "        )\n",
    "print(s3)\n",
    "\n",
    "s4 = f\"I'm {name}, and {age} years old.\"\n",
    "print(s4)"
   ]
  },
  {
   "cell_type": "markdown",
   "id": "d0d87042",
   "metadata": {},
   "source": [
    "## Floating operations "
   ]
  },
  {
   "cell_type": "code",
   "execution_count": null,
   "id": "7bcd1e07",
   "metadata": {},
   "outputs": [],
   "source": [
    "a = 0.3 / 0.1\n",
    "print(a)\t# It's not 3, 2.9999999999999996 instead\n",
    "\n",
    "# Similar cases:\n",
    "# 0.2 + 0.1 = 0.30000000000000004"
   ]
  },
  {
   "cell_type": "markdown",
   "id": "c6527046",
   "metadata": {},
   "source": [
    "See [here](https://docs.python.org/3/tutorial/floatingpoint.html) to learn why these cases happen.\n",
    "\n",
    "\n",
    "\n",
    "# Chapter 3 - List and Tuple\n",
    "\n",
    "## List\n",
    "\n",
    "A list is like an array in other languages, it contains none or multiple items. But the list in Python is more flexible, the items are not necessarily required to be the same type. They can be any type - including another list.\n",
    "\n",
    "### Create a list\n",
    "\n",
    "Belows are the ways to define a list:"
   ]
  },
  {
   "cell_type": "code",
   "execution_count": null,
   "id": "a0244686",
   "metadata": {},
   "outputs": [],
   "source": [
    "a = [1, 2, 3]\n",
    "b = [1, 'abc', 2.0, ['a', 'b', 'c']]"
   ]
  },
  {
   "cell_type": "markdown",
   "id": "2042b6f9",
   "metadata": {},
   "source": [
    "### Access the items in a list\n",
    "\n",
    "We can use index to access the items:"
   ]
  },
  {
   "cell_type": "code",
   "execution_count": null,
   "id": "f5f482a9",
   "metadata": {},
   "outputs": [],
   "source": [
    "a = [1, 2, 3]\n",
    "print(a[0], a[-1], a[0:2], a[-3:-1], sep=', ', end='***\\n')"
   ]
  },
  {
   "cell_type": "markdown",
   "id": "c42b3b77",
   "metadata": {},
   "source": [
    "As it shows, the list also has operations like slicing.\n",
    "\n",
    "\n",
    "\n",
    "### Functions of list\n",
    "\n",
    "* **Number** of appearance of a certain item: `listA.count(3)`\n",
    "* **Append** a new item: `listA.append('a')`\n",
    "* **Insert** an item to a certain position: `listA.insert(1, 'b')`, which mean insert item 'b' to position 1.\n",
    "* **Delete** an item: `listA.remove('e')`, which remove the first 'e' in the list.\n",
    "  * If you want to remove the item on certain position, use `pop()`: `listA.pop(3)`\n",
    "* **Modify** an item: use the index directly, `listA[2] = 'e'`\n",
    "* **Reverse** a list: `listA.reverse()`\n",
    "* **Sort** the items in a list: `listA.sort(reverse=[True|False])`, default order is increasing.\n",
    "\n",
    "\n",
    "\n",
    "## Tuple\n",
    "\n",
    "A tuple can be considered as a static list. Once a tuple is defined, **the items in it cannot be changed**. This feature is called **immutable**.\n",
    "\n",
    "\n",
    "\n",
    "### Create a tuple\n",
    "\n",
    "Just like creating a list, but use \"`[]`\" instead:"
   ]
  },
  {
   "cell_type": "code",
   "execution_count": null,
   "id": "7b8cf313",
   "metadata": {},
   "outputs": [],
   "source": [
    "a = (1, 2, 3)\n",
    "b = 1,"
   ]
  },
  {
   "cell_type": "markdown",
   "id": "ef632b32",
   "metadata": {},
   "source": [
    "### Access items in a tuple\n",
    "\n",
    "Same as lists, strings, and so on."
   ]
  },
  {
   "cell_type": "code",
   "execution_count": null,
   "id": "2f243e66",
   "metadata": {},
   "outputs": [],
   "source": [
    "a = (1, 2, 3)\n",
    "print(a[2], a[0:], a[-2])"
   ]
  },
  {
   "cell_type": "markdown",
   "id": "50d4162e",
   "metadata": {},
   "source": [
    "### Functions of tuple\n",
    "\n",
    "* **Number** of appearance of a certain item: `tupleA.count(3)`\n",
    "\n",
    "\n",
    "\n",
    "# Chapter 4 - Dictionary and Set\n",
    "\n",
    "## Dictionary\n",
    "\n",
    "A dictionary is similar to a map in another language like Java. The elements in dict are key-value pairs.\n",
    "\n",
    "As usual, the type of keys or values can all be various. For values, they can be whatever types you like, but for keys, only **hashable** type is legit.\n",
    "\n",
    "\n",
    "\n",
    "### Hashable object\n",
    "\n",
    "> In Python, any immutable object (such as an integer, boolean, string, tuple) is hashable, meaning its value does not change during its lifetime. This allows Python to create a unique hash value to identify it, which can be used by dictionaries to track unique keys and sets to track unique values.\n",
    ">\n",
    "> -- [stack overflow](https://stackoverflow.com/questions/14535730/what-does-hashable-mean-in-python#:~:text=In%20Python%2C%20any%20immutable%20object,sets%20to%20track%20unique%20values.)\n",
    "\n",
    "What's more, a hashable object doesn't mean to be immutable, because you can define a class and make it hashable, but the object of this class could definitely be changeable.\n",
    "\n",
    "If you want to test whether an object is hashable or not, you can use `hash()` function, no error occurring means it's hashable.\n",
    "\n",
    "\n",
    "\n",
    "### Create a dictionary"
   ]
  },
  {
   "cell_type": "code",
   "execution_count": null,
   "id": "37b1ac12",
   "metadata": {},
   "outputs": [],
   "source": [
    "a = {\n",
    "  1: 'a',\n",
    "  2: 'b',\n",
    "  '3': 'c',\n",
    "  4.0: ('d', 'e', 'f')\n",
    "}\n",
    "\n",
    "b = dict() # it's an empty dict\n",
    "\n",
    "c = dict(a = 1, b = 2, c = 'a')\n",
    "# keep in mind that the keys are strings:\n",
    "# {'a': 1, 'b': 2, 'c': 'a'}"
   ]
  },
  {
   "cell_type": "markdown",
   "id": "5f9697df",
   "metadata": {},
   "source": [
    "### Access the items in a dictionary\n",
    "\n",
    "1. Get values by keys"
   ]
  },
  {
   "cell_type": "code",
   "execution_count": null,
   "id": "a9542a90",
   "metadata": {},
   "outputs": [],
   "source": [
    "   a = dict(a = 1, b = 2, c = 'a')\n",
    "   print(a['c'])"
   ]
  },
  {
   "cell_type": "markdown",
   "id": "3b1326ad",
   "metadata": {},
   "source": [
    "2. Get values by `get()`"
   ]
  },
  {
   "cell_type": "code",
   "execution_count": null,
   "id": "aa34e19d",
   "metadata": {},
   "outputs": [],
   "source": [
    "   d = {\n",
    "     'Name': 'Jack',\n",
    "     'Age': 9,\n",
    "     'Grade': 5\n",
    "   }\n",
    "   print(d.get('Age'), d['Name'], d.get('None'))\n",
    "   # 9 Jack None"
   ]
  },
  {
   "cell_type": "markdown",
   "id": "b6f79f32",
   "metadata": {},
   "source": [
    "   \n",
    "\n",
    "### Update/add items\n",
    "\n",
    "If the key exists, update its value, if not, add a new key-value pair."
   ]
  },
  {
   "cell_type": "code",
   "execution_count": null,
   "id": "a5d61db8",
   "metadata": {},
   "outputs": [],
   "source": [
    "d['Name'] = 'Tom'\n",
    "c = dict(Sex = 'Male', ID = '1100101', Age = 12)\n",
    "d.update(c)\n",
    "# {'Name': 'Tom', 'Age': 12, 'Grade': 5, 'Sex': 'Male', 'ID': '1100101'}\n",
    "\n",
    "b = {**c, **d}\n",
    "# {'Sex': 'Male', 'ID': '1100101', 'Age': 12, 'Name': 'Tom', 'Grade': 5}"
   ]
  },
  {
   "cell_type": "markdown",
   "id": "4faecfb4",
   "metadata": {},
   "source": [
    "### Functions of dict"
   ]
  },
  {
   "cell_type": "code",
   "execution_count": null,
   "id": "86ee1c76",
   "metadata": {},
   "outputs": [],
   "source": [
    "d.keys()      # returns the dict_keys type data\n",
    "d.values()    # returns the dict_values type data\n",
    "d.items()     # returns the dict_items type data\n",
    "d.pop('Name') # remove the key-value pair"
   ]
  },
  {
   "cell_type": "markdown",
   "id": "69b5dfa4",
   "metadata": {},
   "source": [
    "## Set\n",
    "\n",
    "We can treat a set as a dict without value. The items in a set are **distinct**, with no duplication.\n",
    "\n",
    "From this, we can deduct that the data structure behind the scene is also the hash table, so that the items of a set should also be **hashable**.\n",
    "\n",
    "\n",
    "\n",
    "### Create a set\n",
    "\n",
    "Similar to creating a dict, use curly brackets: `a = {'a', 'b', 'c'}`\n",
    "\n",
    "Or you can use set():"
   ]
  },
  {
   "cell_type": "code",
   "execution_count": null,
   "id": "eb80495b",
   "metadata": {},
   "outputs": [],
   "source": [
    "l = [1, 2, 3, 4, 5]\n",
    "s = set(l)\n",
    "# if the list l has duplicated items, after calling set(), it will be reduced to only 1."
   ]
  },
  {
   "cell_type": "markdown",
   "id": "41739dfb",
   "metadata": {},
   "source": [
    "### Function of set"
   ]
  },
  {
   "cell_type": "code",
   "execution_count": null,
   "id": "b0acb5dd",
   "metadata": {},
   "outputs": [],
   "source": [
    "s = {3, 4, 5, 6}\n",
    "s.add(7)       # {3, 4, 5, 6, 7}\n",
    "s.remove(5)     #{3, 4, 6, 7}\n",
    "\n",
    "s1 = {1, 2, 3, 4}\n",
    "s2 = {3, 4, 5, 6}\n",
    "# operation of set\n",
    "print(s1 & s2)  # intersection: {3, 4}\n",
    "print(s1 | s2)  # union: {1, 2, 3, 4, 5, 6}\n",
    "print(s1 ^ s2)  # symmetric difference: {1, 2, 5, 6}\n",
    "print(s1 - s2)  # difference: {1, 2}"
   ]
  },
  {
   "cell_type": "markdown",
   "id": "abc90e6f",
   "metadata": {},
   "source": [
    "# Chapter 5 - Branch and Loop Statements\n",
    "\n",
    "Since this part is not very hard to understand, nor to remember, I don't want to keep so many details, just some of the important points.\n",
    "\n",
    "## Boolean statements\n",
    "\n",
    "Boolean statements are statements having values of boolean type, which means the interpreter will evaluate the statements as either 'True' or 'False'.\n",
    "\n",
    "Typical boolean statements are as follows:"
   ]
  },
  {
   "cell_type": "code",
   "execution_count": null,
   "id": "c8cedbdd",
   "metadata": {},
   "outputs": [],
   "source": [
    "3 > 5           # False\n",
    "3 == 9 / 3      # True\n",
    "3 in range(10)  # True\n",
    "bool(1 & 0)     # False\n",
    "a is not b      # It depends"
   ]
  },
  {
   "cell_type": "markdown",
   "id": "d32ba1a7",
   "metadata": {},
   "source": [
    "## range() function"
   ]
  },
  {
   "cell_type": "code",
   "execution_count": null,
   "id": "09686c9a",
   "metadata": {},
   "outputs": [],
   "source": [
    "for item in range(0, 20, 5):\n",
    "    # range(included start, excluded end, step)\n",
    "    print(item)\n",
    "    # 0 5 10 15"
   ]
  }
 ],
 "metadata": {
  "kernelspec": {
   "display_name": "Python 3 (ipykernel)",
   "language": "python",
   "name": "python3"
  },
  "toc": {
   "base_numbering": 1,
   "nav_menu": {},
   "number_sections": true,
   "sideBar": true,
   "skip_h1_title": false,
   "title_cell": "Table of Contents",
   "title_sidebar": "Contents",
   "toc_cell": false,
   "toc_position": {},
   "toc_section_display": true,
   "toc_window_display": true
  }
 },
 "nbformat": 4,
 "nbformat_minor": 5
}
